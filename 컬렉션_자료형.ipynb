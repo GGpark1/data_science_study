{
  "nbformat": 4,
  "nbformat_minor": 0,
  "metadata": {
    "colab": {
      "name": "컬렉션_자료형.ipynb",
      "provenance": [],
      "authorship_tag": "ABX9TyPejqAY4WS34l9aU3tHQQsH",
      "include_colab_link": true
    },
    "kernelspec": {
      "name": "python3",
      "display_name": "Python 3"
    },
    "language_info": {
      "name": "python"
    }
  },
  "cells": [
    {
      "cell_type": "markdown",
      "metadata": {
        "id": "view-in-github",
        "colab_type": "text"
      },
      "source": [
        "<a href=\"https://colab.research.google.com/github/GGpark1/python_study/blob/master/%EC%BB%AC%EB%A0%89%EC%85%98_%EC%9E%90%EB%A3%8C%ED%98%95.ipynb\" target=\"_parent\"><img src=\"https://colab.research.google.com/assets/colab-badge.svg\" alt=\"Open In Colab\"/></a>"
      ]
    },
    {
      "cell_type": "code",
      "execution_count": 2,
      "metadata": {
        "colab": {
          "base_uri": "https://localhost:8080/"
        },
        "id": "GQtHGCPsCyYj",
        "outputId": "b8f9f649-f225-40fd-977b-0f7747f78b43"
      },
      "outputs": [
        {
          "output_type": "stream",
          "name": "stdout",
          "text": [
            "1001,1008,1022,1029,1036,1043,1057,1064,1071,1078,1092,1099,1106,1113,1127,1134,1141,1148,1162,1169,1176,1183,1197,1204,1211,1218,1232,1239,1246,1253,1267,1274,1281,1288,1302,1309,1316,1323,1337,1344,1351,1358,1372,1379,1386,1393,1407,1414,1421,1428,1442,1449,1456,1463,1477,1484,1491,1498,1512,1519,1526,1533,1547,1554,1561,1568,1582,1589,1596,1603,1617,1624,1631,1638,1652,1659,1666,1673,1687,1694,1701,1708,1722,1729,1736,1743,1757,1764,1771,1778,1792,1799,1806,1813,1827,1834,1841,1848,1862,1869,1876,1883,1897,1904,1911,1918,1932,1939,1946,1953,1967,1974,1981,1988,2002,2009,2016,2023,2037,2044,2051,2058,2072,2079,2086,2093,2107,2114,2121,2128,2142,2149,2156,2163,2177,2184,2191,2198\n"
          ]
        }
      ],
      "source": [
        "#1000 ~ 2199 사이의 숫자 중 7의 약수이면서 5의 약수가 아닌 숫자 찾기\n",
        "\n",
        "my_list = []\n",
        "for i in range(1000, 2200):\n",
        "    if (i%7 == 0) and (i%5 != 0):\n",
        "        my_list.append(str(i))\n",
        "\n",
        "print(','.join(my_list)) # ','로 my_list 내 객체를 연결하여 출력"
      ]
    },
    {
      "cell_type": "code",
      "source": [
        "# append와 같은 기능을 insert를 활용하여 구현\n",
        "\n",
        "my_list = []\n",
        "for i in range(1000, 2200):\n",
        "    if (i%7 == 0) and (i%5 != 0):\n",
        "        my_list.insert(len(my_list), str(i))\n",
        "\n",
        "print(','.join(my_list))"
      ],
      "metadata": {
        "colab": {
          "base_uri": "https://localhost:8080/"
        },
        "id": "CO4XYoiEDL6z",
        "outputId": "db3afdca-ca5e-4ee2-d134-8f2ffb7bb40f"
      },
      "execution_count": 5,
      "outputs": [
        {
          "output_type": "stream",
          "name": "stdout",
          "text": [
            "1001,1008,1022,1029,1036,1043,1057,1064,1071,1078,1092,1099,1106,1113,1127,1134,1141,1148,1162,1169,1176,1183,1197,1204,1211,1218,1232,1239,1246,1253,1267,1274,1281,1288,1302,1309,1316,1323,1337,1344,1351,1358,1372,1379,1386,1393,1407,1414,1421,1428,1442,1449,1456,1463,1477,1484,1491,1498,1512,1519,1526,1533,1547,1554,1561,1568,1582,1589,1596,1603,1617,1624,1631,1638,1652,1659,1666,1673,1687,1694,1701,1708,1722,1729,1736,1743,1757,1764,1771,1778,1792,1799,1806,1813,1827,1834,1841,1848,1862,1869,1876,1883,1897,1904,1911,1918,1932,1939,1946,1953,1967,1974,1981,1988,2002,2009,2016,2023,2037,2044,2051,2058,2072,2079,2086,2093,2107,2114,2121,2128,2142,2149,2156,2163,2177,2184,2191,2198\n"
          ]
        }
      ]
    },
    {
      "cell_type": "code",
      "source": [
        "words = []\n",
        "while True:\n",
        "    char = input()\n",
        "    if char:\n",
        "        words.append(char.upper())\n",
        "    else:\n",
        "        break;\n",
        "\n",
        "for word in words:\n",
        "    print(word)\n"
      ],
      "metadata": {
        "colab": {
          "base_uri": "https://localhost:8080/"
        },
        "id": "W2ZYSqyzDwMq",
        "outputId": "80556c5e-3f28-4ac0-da6b-fcb6c25c97e2"
      },
      "execution_count": 6,
      "outputs": [
        {
          "output_type": "stream",
          "name": "stdout",
          "text": [
            "x\n",
            "y\n",
            "z\n",
            "\n",
            "X\n",
            "Y\n",
            "Z\n"
          ]
        }
      ]
    },
    {
      "cell_type": "code",
      "source": [
        "import pdb"
      ],
      "metadata": {
        "id": "8D5gRG32GUCh"
      },
      "execution_count": 12,
      "outputs": []
    },
    {
      "cell_type": "code",
      "source": [
        "# 100 ~ 299\n",
        "# 200 단위 중 짝수 숫자 찾기\n",
        "\n",
        "values = []\n",
        "for i in range(100, 300):\n",
        "    char = str(i)\n",
        "    #pdb.set_trace()\n",
        "\n",
        "    if (int(char[0]) % 2 == 0) and (int(char[2]) % 2 == 0):\n",
        "        values.append(char)\n",
        "\n",
        "print(\",\".join(values))"
      ],
      "metadata": {
        "colab": {
          "base_uri": "https://localhost:8080/"
        },
        "id": "6_NBBI2TEIrY",
        "outputId": "60e30842-613d-4b59-ab4f-c433e3e55070"
      },
      "execution_count": 14,
      "outputs": [
        {
          "output_type": "stream",
          "name": "stdout",
          "text": [
            "200,202,204,206,208,210,212,214,216,218,220,222,224,226,228,230,232,234,236,238,240,242,244,246,248,250,252,254,256,258,260,262,264,266,268,270,272,274,276,278,280,282,284,286,288,290,292,294,296,298\n"
          ]
        }
      ]
    },
    {
      "cell_type": "code",
      "source": [
        "list_1 = ['bread', 'meat']\n",
        "list_2 = ['Lettuce', 2, 5]\n",
        "list_1.extend(list_2)\n",
        "\n",
        "print('list1: {}, list2: {}'.format(list_1, list_2))"
      ],
      "metadata": {
        "colab": {
          "base_uri": "https://localhost:8080/"
        },
        "id": "kXD42vbFFjjz",
        "outputId": "e742e048-af3f-4ac4-be3c-ef60144e0e58"
      },
      "execution_count": 17,
      "outputs": [
        {
          "output_type": "stream",
          "name": "stdout",
          "text": [
            "list1: ['bread', 'meat', 'Lettuce', 2, 5], list2: ['Lettuce', 2, 5]\n"
          ]
        }
      ]
    },
    {
      "cell_type": "code",
      "source": [
        "# append와 extend 두 메소드의 차이점에 주의하자\n",
        "\n",
        "# '리스트' 추가  \n",
        "flavors1 = ['Vanilla', 'Chocolate']\n",
        "flavors1.append(['Strawberry', 'MintChocolate'])\n",
        "print(flavors1)\n",
        "\n",
        "flavors2 = ['Vanilla', 'Chocolate']\n",
        "flavors2.extend(['Strawberry', 'MintChocolate'])\n",
        "print(flavors2)\n",
        "\n",
        "\n",
        "# '문자열' 추가\n",
        "flavors3 = ['Vanilla', 'Chocolate','Strawberry']\n",
        "flavors3.append('MintChocolate')\n",
        "print(flavors3)\n",
        "\n",
        "flavors4 = ['Vanilla', 'Chocolate','Strawberry']\n",
        "flavors4.extend('MintChocolate')\n",
        "print(flavors4)"
      ],
      "metadata": {
        "colab": {
          "base_uri": "https://localhost:8080/"
        },
        "id": "3GpmrYv5G_p_",
        "outputId": "ac5713fa-8bde-4e1c-a673-ee543cec277a"
      },
      "execution_count": 20,
      "outputs": [
        {
          "output_type": "stream",
          "name": "stdout",
          "text": [
            "['Vanilla', 'Chocolate', ['Strawberry', 'MintChocolate']]\n",
            "['Vanilla', 'Chocolate', 'Strawberry', 'MintChocolate']\n",
            "['Vanilla', 'Chocolate', 'Strawberry', 'MintChocolate']\n",
            "['Vanilla', 'Chocolate', 'Strawberry', 'M', 'i', 'n', 't', 'C', 'h', 'o', 'c', 'o', 'l', 'a', 't', 'e']\n"
          ]
        }
      ]
    },
    {
      "cell_type": "code",
      "source": [
        "list1 = [11, 12, 43, 4, 6]\n",
        "for i in list1.copy():\n",
        "    if not i % 2: # i % 2이 true가 아니라면(=false=0), 즉 0이라면 해당 element를 list1에서 제거\n",
        "        list1.remove(i)\n",
        "\n",
        "print(list1)"
      ],
      "metadata": {
        "colab": {
          "base_uri": "https://localhost:8080/"
        },
        "id": "dWZfKu_8HXy-",
        "outputId": "41d3d6e3-4d93-4f9a-b96e-3148588217a4"
      },
      "execution_count": 22,
      "outputs": [
        {
          "output_type": "stream",
          "name": "stdout",
          "text": [
            "[11, 43]\n"
          ]
        }
      ]
    },
    {
      "cell_type": "code",
      "source": [
        "my_list = [1,2,3,4,5]\n",
        "my_list[0] = 99\n",
        "print(my_list)"
      ],
      "metadata": {
        "colab": {
          "base_uri": "https://localhost:8080/"
        },
        "id": "_FyoMXA9IIoz",
        "outputId": "d90806f3-1698-473f-a85f-44ce91eb7621"
      },
      "execution_count": 23,
      "outputs": [
        {
          "output_type": "stream",
          "name": "stdout",
          "text": [
            "[99, 2, 3, 4, 5]\n"
          ]
        }
      ]
    },
    {
      "cell_type": "code",
      "source": [
        "del my_list[0]\n",
        "print(my_list)"
      ],
      "metadata": {
        "colab": {
          "base_uri": "https://localhost:8080/"
        },
        "id": "BvX3LW6IIqEz",
        "outputId": "3706ce34-a2c7-489c-8079-a32e950ef867"
      },
      "execution_count": 24,
      "outputs": [
        {
          "output_type": "stream",
          "name": "stdout",
          "text": [
            "[2, 3, 4, 5]\n"
          ]
        }
      ]
    },
    {
      "cell_type": "code",
      "source": [
        "my_list = [1, 2, 3, 4, 5]\n",
        "my_list[0] = 99\n",
        "print(my_list)\n",
        "\n",
        "my_list.pop() # 마지막 element를 따로 뺌\n",
        "print(my_list) # 마지막 element가 제거된 채로 출력"
      ],
      "metadata": {
        "colab": {
          "base_uri": "https://localhost:8080/"
        },
        "id": "F9c8pr9gIsxa",
        "outputId": "4fcfca6e-3171-44ca-c09a-e3b86259a109"
      },
      "execution_count": 28,
      "outputs": [
        {
          "output_type": "stream",
          "name": "stdout",
          "text": [
            "[99, 2, 3, 4, 5]\n",
            "[99, 2, 3, 4]\n"
          ]
        }
      ]
    },
    {
      "cell_type": "code",
      "source": [
        "# 인자가 위치한 index 출력\n",
        "\n",
        "my_list = ['xyz', 'XYZ' 'abc', 'ABC']\n",
        "print(\"Index for xyz : \", my_list.index( 'xyz' ))\n",
        "print(\"Index for ABC : \",  my_list.index( 'ABC' ))"
      ],
      "metadata": {
        "colab": {
          "base_uri": "https://localhost:8080/"
        },
        "id": "tdBjFXEjIzi6",
        "outputId": "af674eda-8d11-4d17-afd1-79b2c1ba6112"
      },
      "execution_count": 33,
      "outputs": [
        {
          "output_type": "stream",
          "name": "stdout",
          "text": [
            "Index for xyz :  0\n",
            "Index for ABC :  2\n"
          ]
        }
      ]
    },
    {
      "cell_type": "code",
      "source": [
        "# 인자와 같은 element의 갯수를 출력\n",
        "\n",
        "my_list = ['xyz', 'XYZ' 'abc', 'ABC']\n",
        "print(\"Count for xyz : \",  my_list.count( 'xyz' ))\n",
        "print(\"Count for ABC : \",  my_list.count( 'ABC' ))"
      ],
      "metadata": {
        "colab": {
          "base_uri": "https://localhost:8080/"
        },
        "id": "oTlXZ1f4JKc8",
        "outputId": "03fa7111-7fba-40aa-d33f-97f7b23277fe"
      },
      "execution_count": 34,
      "outputs": [
        {
          "output_type": "stream",
          "name": "stdout",
          "text": [
            "Count for xyz :  1\n",
            "Count for ABC :  1\n"
          ]
        }
      ]
    },
    {
      "cell_type": "code",
      "source": [
        "import math\n",
        "\n",
        "# 이진탐색\n",
        "\n",
        "def bin_search(li, element):\n",
        "    bottom = 0\n",
        "    top = len(li) - 1 # 6\n",
        "    index = -1 \n",
        "    while top >= bottom and index == -1:\n",
        "        mid = int(math.floor((top+bottom) / 2.0)) # 3\n",
        "        if li[mid] == element: # 9 != 11\n",
        "            index = mid\n",
        "        elif li[mid] > element: # 9 < 11\n",
        "            top = mid - 1\n",
        "        else:\n",
        "            bottom = mid + 1\n",
        "    \n",
        "    return index\n",
        "\n",
        "li=[2,5,7,9,11,17,222]\n",
        "print(bin_search(li,11))\n",
        "print(bin_search(li,102))"
      ],
      "metadata": {
        "colab": {
          "base_uri": "https://localhost:8080/"
        },
        "id": "JCsub2uKJv8r",
        "outputId": "e3d16a34-181f-433c-d182-898dc7d692ce"
      },
      "execution_count": 38,
      "outputs": [
        {
          "output_type": "stream",
          "name": "stdout",
          "text": [
            "4\n",
            "6\n"
          ]
        }
      ]
    },
    {
      "cell_type": "code",
      "source": [
        "li = [12,24,35,70,88,120]\n",
        "for (i,x) in enumerate(li):\n",
        "   if i not in (0,3,5):\n",
        "     li = x\n",
        "     print(li)\n",
        "print(li)"
      ],
      "metadata": {
        "colab": {
          "base_uri": "https://localhost:8080/"
        },
        "id": "G_Km4ffOLmHc",
        "outputId": "86ada179-e934-4126-f04f-97704cdd9d09"
      },
      "execution_count": 40,
      "outputs": [
        {
          "output_type": "stream",
          "name": "stdout",
          "text": [
            "24\n",
            "35\n",
            "88\n",
            "88\n"
          ]
        }
      ]
    },
    {
      "cell_type": "code",
      "source": [
        "def list_update(data):\n",
        "    new_li=[]\n",
        "    new_set = set()\n",
        "    for item in data:\n",
        "        if item not in new_set:\n",
        "            new_set.add(item)\n",
        "            new_li.append(item)\n",
        "\n",
        "    return new_set, new_li\n",
        "\n",
        "list_test = [120, 120, 10, 20, 30, 20]\n",
        "print(list_update(list_test))"
      ],
      "metadata": {
        "colab": {
          "base_uri": "https://localhost:8080/"
        },
        "id": "jGU6KNIUNhKC",
        "outputId": "27e24dbd-bc67-4307-9fae-27ec184b2671"
      },
      "execution_count": 43,
      "outputs": [
        {
          "output_type": "stream",
          "name": "stdout",
          "text": [
            "({120, 10, 20, 30}, [120, 10, 20, 30])\n"
          ]
        }
      ]
    },
    {
      "cell_type": "code",
      "source": [
        "from operator import itemgetter\n",
        "l = []\n",
        "while True:\n",
        "    s = input()\n",
        "    if not s:\n",
        "        break\n",
        "    l.append(tuple(s.split(\",\")))\n",
        "\n",
        "#itemgetter의 index 순서대로 리스트를 정렬함\n",
        "print(sorted(l, key=itemgetter(0, 1, 2)))"
      ],
      "metadata": {
        "colab": {
          "base_uri": "https://localhost:8080/"
        },
        "id": "XbM6f2wlN9Hw",
        "outputId": "669f3073-dea8-449f-b477-98ca462d5fb0"
      },
      "execution_count": 48,
      "outputs": [
        {
          "output_type": "stream",
          "name": "stdout",
          "text": [
            "dave,B,10\n",
            "ajohn, A, 15\n",
            "jane, B, 12\n",
            "\n",
            "[('ajohn', ' A', ' 15'), ('dave', 'B', '10'), ('jane', ' B', ' 12')]\n"
          ]
        }
      ]
    },
    {
      "cell_type": "code",
      "source": [
        "# get(keyname, value)\n",
        "# dictionary value를 1부터 셀 수 있도록 하기\n",
        "\n",
        "dic = {}\n",
        "s = input()\n",
        "for s in s:\n",
        "    dic[s] = dic.get(s,0) + 1\n",
        "\n",
        "print('\\n'.join(['%s,%s' % (k, v) for k, v in dic.items()]))"
      ],
      "metadata": {
        "colab": {
          "base_uri": "https://localhost:8080/",
          "height": 253
        },
        "id": "XuQ8WbXZOb9Z",
        "outputId": "1e3ffafb-17db-4810-bca5-e4c793f29dc9"
      },
      "execution_count": 53,
      "outputs": [
        {
          "name": "stdout",
          "output_type": "stream",
          "text": [
            "a\n"
          ]
        },
        {
          "output_type": "error",
          "ename": "TypeError",
          "evalue": "ignored",
          "traceback": [
            "\u001b[0;31m---------------------------------------------------------------------------\u001b[0m",
            "\u001b[0;31mTypeError\u001b[0m                                 Traceback (most recent call last)",
            "\u001b[0;32m<ipython-input-53-ede65f106728>\u001b[0m in \u001b[0;36m<module>\u001b[0;34m()\u001b[0m\n\u001b[1;32m      2\u001b[0m \u001b[0ms\u001b[0m \u001b[0;34m=\u001b[0m \u001b[0minput\u001b[0m\u001b[0;34m(\u001b[0m\u001b[0;34m)\u001b[0m\u001b[0;34m\u001b[0m\u001b[0;34m\u001b[0m\u001b[0m\n\u001b[1;32m      3\u001b[0m \u001b[0;32mfor\u001b[0m \u001b[0ms\u001b[0m \u001b[0;32min\u001b[0m \u001b[0ms\u001b[0m\u001b[0;34m:\u001b[0m\u001b[0;34m\u001b[0m\u001b[0;34m\u001b[0m\u001b[0m\n\u001b[0;32m----> 4\u001b[0;31m     \u001b[0mdic\u001b[0m\u001b[0;34m[\u001b[0m\u001b[0ms\u001b[0m\u001b[0;34m]\u001b[0m \u001b[0;34m=\u001b[0m \u001b[0mdic\u001b[0m\u001b[0;34m.\u001b[0m\u001b[0mget\u001b[0m\u001b[0;34m(\u001b[0m\u001b[0ms\u001b[0m\u001b[0;34m)\u001b[0m \u001b[0;34m+\u001b[0m \u001b[0;36m1\u001b[0m\u001b[0;34m\u001b[0m\u001b[0;34m\u001b[0m\u001b[0m\n\u001b[0m\u001b[1;32m      5\u001b[0m \u001b[0;34m\u001b[0m\u001b[0m\n\u001b[1;32m      6\u001b[0m \u001b[0mprint\u001b[0m\u001b[0;34m(\u001b[0m\u001b[0;34m'\\n'\u001b[0m\u001b[0;34m.\u001b[0m\u001b[0mjoin\u001b[0m\u001b[0;34m(\u001b[0m\u001b[0;34m[\u001b[0m\u001b[0;34m'%s,%s'\u001b[0m \u001b[0;34m%\u001b[0m \u001b[0;34m(\u001b[0m\u001b[0mk\u001b[0m\u001b[0;34m,\u001b[0m \u001b[0mv\u001b[0m\u001b[0;34m)\u001b[0m \u001b[0;32mfor\u001b[0m \u001b[0mk\u001b[0m\u001b[0;34m,\u001b[0m \u001b[0mv\u001b[0m \u001b[0;32min\u001b[0m \u001b[0mdic\u001b[0m\u001b[0;34m.\u001b[0m\u001b[0mitems\u001b[0m\u001b[0;34m(\u001b[0m\u001b[0;34m)\u001b[0m\u001b[0;34m]\u001b[0m\u001b[0;34m)\u001b[0m\u001b[0;34m)\u001b[0m\u001b[0;34m\u001b[0m\u001b[0;34m\u001b[0m\u001b[0m\n",
            "\u001b[0;31mTypeError\u001b[0m: unsupported operand type(s) for +: 'NoneType' and 'int'"
          ]
        }
      ]
    },
    {
      "cell_type": "markdown",
      "source": [
        "## 람다 함수"
      ],
      "metadata": {
        "id": "9n9nDSwGRIJA"
      }
    },
    {
      "cell_type": "code",
      "source": [
        "define_word = (lambda word1, define : word1 * define)\n",
        "result = define_word('call_result_', 5)\n",
        "print(result)"
      ],
      "metadata": {
        "colab": {
          "base_uri": "https://localhost:8080/"
        },
        "id": "PyAB-JveQILG",
        "outputId": "f403071f-7bda-4b3e-ed58-5885d36513ca"
      },
      "execution_count": 54,
      "outputs": [
        {
          "output_type": "stream",
          "name": "stdout",
          "text": [
            "call_result_call_result_call_result_call_result_call_result_\n"
          ]
        }
      ]
    },
    {
      "cell_type": "code",
      "source": [
        "spelling = [\"test1\", \"test2\", \"test4 test5\", \"test3\"]\n",
        "\n",
        "# map(X, y) : y 객체의 element를 하나씩 꺼내서 X 함수에 적용\n",
        "\n",
        "shout_spells = map(lambda item: item + ('!!!'), spelling)\n",
        "\n",
        "# 리스트형태로 변환\n",
        "shout_spells_list = list(shout_spells)\n",
        "\n",
        "# 결과출력\n",
        "print(shout_spells_list)"
      ],
      "metadata": {
        "colab": {
          "base_uri": "https://localhost:8080/"
        },
        "id": "SsuTZ_iURXM7",
        "outputId": "49bc209c-3368-4015-b36e-69def0ee554c"
      },
      "execution_count": 60,
      "outputs": [
        {
          "output_type": "stream",
          "name": "stdout",
          "text": [
            "['test1!!!', 'test2!!!', 'test4 test5!!!', 'test3!!!']\n"
          ]
        }
      ]
    },
    {
      "cell_type": "code",
      "source": [
        "fellowship = ['frodo', 'samwise', 'merry', 'pippin', 'aragorn', 'boromir', 'legolas', 'gimli', 'gandalf']\n",
        "\n",
        "# 문자열의 길이가 6 이상인 element만 출력\n",
        "\n",
        "result = filter(lambda member: len(member) > 6, fellowship)\n",
        "\n",
        "# 리스트형태로 변환\n",
        "result_list = list(result)\n",
        "\n",
        "# 결과출력\n",
        "print(result_list)"
      ],
      "metadata": {
        "colab": {
          "base_uri": "https://localhost:8080/"
        },
        "id": "EdtA52NpR9IG",
        "outputId": "8c11ce8a-41f0-4c90-b806-f24cb4e35c86"
      },
      "execution_count": 62,
      "outputs": [
        {
          "output_type": "stream",
          "name": "stdout",
          "text": [
            "['samwise', 'aragorn', 'boromir', 'legolas', 'gandalf']\n"
          ]
        }
      ]
    },
    {
      "cell_type": "code",
      "source": [
        "from functools import reduce\n",
        "\n",
        "stark = ['robb', 'sansa', 'arya', 'brandon', 'rickon']\n",
        "\n",
        "result = reduce(lambda item1, item2:  item1+item2, stark)\n",
        "\n",
        "print(result)"
      ],
      "metadata": {
        "colab": {
          "base_uri": "https://localhost:8080/"
        },
        "id": "pLopwfBKSfIo",
        "outputId": "89c2e818-b69c-42ea-a31b-2a46f21b3dee"
      },
      "execution_count": 64,
      "outputs": [
        {
          "output_type": "stream",
          "name": "stdout",
          "text": [
            "robbsansaaryabrandonrickon\n"
          ]
        }
      ]
    },
    {
      "cell_type": "code",
      "source": [
        "# iterable 한 data를 왼쪽에서 오른쪽으로 누적적으로 fuction 의 인자로 넣어 하나의 결과를 반환하는 함수\n",
        "\n",
        "data = [1, 2, 3, 4, 5]\n",
        "\n",
        "result = reduce(lambda a, b: a+b, data)\n",
        "\n",
        "print(result)"
      ],
      "metadata": {
        "colab": {
          "base_uri": "https://localhost:8080/"
        },
        "id": "am9GJNitS3A4",
        "outputId": "4aff92f0-bead-4a90-911e-5101f2e77da3"
      },
      "execution_count": 70,
      "outputs": [
        {
          "output_type": "stream",
          "name": "stdout",
          "text": [
            "15\n"
          ]
        }
      ]
    },
    {
      "cell_type": "code",
      "source": [
        ""
      ],
      "metadata": {
        "id": "vcqqGB-ATVb2"
      },
      "execution_count": null,
      "outputs": []
    }
  ]
}