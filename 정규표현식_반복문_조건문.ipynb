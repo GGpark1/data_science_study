{
  "nbformat": 4,
  "nbformat_minor": 0,
  "metadata": {
    "colab": {
      "name": "정규표현식/반복문/조건문.ipynb",
      "provenance": [],
      "authorship_tag": "ABX9TyOrCWeA55tOPuqGdq5VRp3r",
      "include_colab_link": true
    },
    "kernelspec": {
      "name": "python3",
      "display_name": "Python 3"
    },
    "language_info": {
      "name": "python"
    }
  },
  "cells": [
    {
      "cell_type": "markdown",
      "metadata": {
        "id": "view-in-github",
        "colab_type": "text"
      },
      "source": [
        "<a href=\"https://colab.research.google.com/github/GGpark1/python_study/blob/master/%EC%A0%95%EA%B7%9C%ED%91%9C%ED%98%84%EC%8B%9D_%EB%B0%98%EB%B3%B5%EB%AC%B8_%EC%A1%B0%EA%B1%B4%EB%AC%B8.ipynb\" target=\"_parent\"><img src=\"https://colab.research.google.com/assets/colab-badge.svg\" alt=\"Open In Colab\"/></a>"
      ]
    },
    {
      "cell_type": "markdown",
      "source": [
        "## 정규표현식"
      ],
      "metadata": {
        "id": "zLwHKKuq0DjE"
      }
    },
    {
      "cell_type": "code",
      "execution_count": 1,
      "metadata": {
        "id": "Vvv7NbxdHPnL"
      },
      "outputs": [],
      "source": [
        "import re"
      ]
    },
    {
      "cell_type": "code",
      "source": [
        "# 첫번째 인자와 같은 값을 가지고 있는 객체를 반환\n",
        "# '.'에는 어떤 텍스트가 위치하여도 상관없음('.'은 모든 문자를 의미함)\n",
        "# search는 문자열의 아무 곳에서나 첫번째 인자와 일치하는지 확인함\n",
        "\n",
        "wordlist = [\"color\", \"colour\", \"work\", \"working\", \"fox\", \"worker\", \"working\"]\n",
        "\n",
        "for word in wordlist:\n",
        "    if re.search('col.r', word):\n",
        "        print(word)"
      ],
      "metadata": {
        "colab": {
          "base_uri": "https://localhost:8080/"
        },
        "id": "mk-_d3PVU_hc",
        "outputId": "019b4abe-1b8c-4574-b6ce-ad262b5ec1ae"
      },
      "execution_count": 7,
      "outputs": [
        {
          "output_type": "stream",
          "name": "stdout",
          "text": [
            "color\n"
          ]
        }
      ]
    },
    {
      "cell_type": "code",
      "source": [
        "# match는 문자열의 시작 부분에서만 일치를 검사함\n",
        "# span : 매치된 문자열의 (시작, 끝)에 해당하는 튜플을 돌려줌\n",
        "# group : 매치된 문자열을 돌려줌\n",
        "# <.*> : '<'으로 시작하고 '>'으로 끝나는 문자열이며, <> 안의 값은 어떤 문자든 상관없음('*'은 모든 문자가 반복될 수 있다는 의미)\n",
        "\n",
        "regular_expressions = '<html><head><title>Title</title>'\n",
        "print(len(regular_expressions))\n",
        "\n",
        "print(re.match('<.*>', regular_expressions).span())\n",
        "print(re.match('<.*>', regular_expressions).group())"
      ],
      "metadata": {
        "colab": {
          "base_uri": "https://localhost:8080/"
        },
        "id": "y42n8uGYVTQS",
        "outputId": "68f15c22-4c25-460a-e145-2e891fdea2bf"
      },
      "execution_count": 15,
      "outputs": [
        {
          "output_type": "stream",
          "name": "stdout",
          "text": [
            "32\n",
            "(0, 32)\n",
            "<html><head><title>Title</title>\n"
          ]
        }
      ]
    },
    {
      "cell_type": "code",
      "source": [
        "# compile : 정규식 패턴을 정규식 객체로 컴파일함(하나의 변수로 저장함)\n",
        "# VERBOSE : 주석처리가 가능하게 함. re.VERBOSE 옵션을 사용하면 문자열에 사용된 화이트스페이스가 제거되고 #기호를 사용하여 주석문을 사용할 수 있음\n",
        "\n",
        "phone = re.compile(\"\"\"\n",
        "010-    # 핸드폰 앞자리 \n",
        "\\d{4}-  # 중간자리\n",
        "\\d{4}  # 뒷자리\n",
        "\"\"\", re.VERBOSE)"
      ],
      "metadata": {
        "id": "x7GYfmbquuEo"
      },
      "execution_count": 16,
      "outputs": []
    },
    {
      "cell_type": "code",
      "source": [
        "phone = re.compile(\"010-\\d{4}-\\d{4}\")"
      ],
      "metadata": {
        "id": "puxjOQvNvFjt"
      },
      "execution_count": 20,
      "outputs": []
    },
    {
      "cell_type": "code",
      "source": [
        "info = ['홍길동 010-1234-1234', '고길동 010-5678-5679']\n",
        "\n",
        "for text in info:\n",
        "    match_info = phone.search(text) #list 내의 객체를 하나씩 input하여 정규식 'phone'과 일치하는 문자열을 저장함\n",
        "    print(match_info.group()) #매치되어 저장된 문자열을 반환함"
      ],
      "metadata": {
        "colab": {
          "base_uri": "https://localhost:8080/"
        },
        "id": "9MXbZLpNu78z",
        "outputId": "b1da2cb3-4852-4b86-f7b8-507caa9030b5"
      },
      "execution_count": 24,
      "outputs": [
        {
          "output_type": "stream",
          "name": "stdout",
          "text": [
            "홍길동 010-1234-1234\n",
            "010-1234-1234\n",
            "고길동 010-5678-5679\n",
            "010-5678-5679\n"
          ]
        }
      ]
    },
    {
      "cell_type": "code",
      "source": [
        "#'\\r' : 반환하는 문자의 활성 위치를 현재 라인의 시작 위치를 옮기는 역할\n",
        "\n",
        "print(\"     \\rHello\")\n",
        "print(\"     Hello\")"
      ],
      "metadata": {
        "colab": {
          "base_uri": "https://localhost:8080/"
        },
        "id": "9QzyC0E5xDV1",
        "outputId": "228b6d60-66d2-445c-d92e-719b6090431d"
      },
      "execution_count": 25,
      "outputs": [
        {
          "output_type": "stream",
          "name": "stdout",
          "text": [
            "     \rHello\n",
            "     Hello\n"
          ]
        }
      ]
    },
    {
      "cell_type": "code",
      "source": [
        "# 문자열 앞에 'r'을 입력하면 정규표현식을 적용하지 않고 raw string이 그대로 출력됨\n",
        "# json, html과 같은 문서와 파일 경로에서 슬래시가 자주 사용되는데, 이때 문자열 그대로 사용하고자 할 때 주로 사용됨\n",
        "\n",
        "print('raw string을 사용하지 않고고\\b 문자 출력하기')\n",
        "print(r'raw string을 사용하지 않지 않고고\\b 문자 출력하기')\n",
        "\n",
        "# 파일 경로 출력하기\n",
        "print('C:\\programs\\nayana')\n",
        "print('C:\\\\programs\\\\nayana')\n",
        "print(R'C:\\programs\\nayana')"
      ],
      "metadata": {
        "colab": {
          "base_uri": "https://localhost:8080/"
        },
        "id": "mEk2m93G0wyk",
        "outputId": "2432f14b-7f59-4823-e5e4-a777a2b6ecf7"
      },
      "execution_count": 26,
      "outputs": [
        {
          "output_type": "stream",
          "name": "stdout",
          "text": [
            "raw string을 사용하지 않고고\b 문자 출력하기\n",
            "raw string을 사용하지 않지 않고고\\b 문자 출력하기\n",
            "C:\\programs\n",
            "ayana\n",
            "C:\\programs\\nayana\n",
            "C:\\programs\\nayana\n"
          ]
        }
      ]
    },
    {
      "cell_type": "code",
      "source": [
        "#rjust의 첫 번째 인자로 들어온 숫자만큼의 길이를 가진 str이 반환됨\n",
        "#적용할 str의 오른쪽에 두번째 인자로 들어온 str이 부족한 lenght를 채움\n",
        "\n",
        "print(\"2\".rjust(3,\"0\"))\n",
        "print(\"abc\".rjust(4, \"#\"))"
      ],
      "metadata": {
        "colab": {
          "base_uri": "https://localhost:8080/"
        },
        "id": "Qi1X--5-1N8s",
        "outputId": "31428d09-04ff-40d6-b57c-84bc95bdd2d2"
      },
      "execution_count": 29,
      "outputs": [
        {
          "output_type": "stream",
          "name": "stdout",
          "text": [
            "002\n",
            "#abc\n"
          ]
        }
      ]
    },
    {
      "cell_type": "code",
      "source": [
        "# 적용할 str을 포함하여 zfill 인자 수의 길이만큼 0으로 채움\n",
        "\n",
        "print(\"2\".zfill(3))"
      ],
      "metadata": {
        "colab": {
          "base_uri": "https://localhost:8080/"
        },
        "id": "CYjORC9D1_1W",
        "outputId": "a23806a6-1635-4e92-d66c-ef5940dd1be6"
      },
      "execution_count": 30,
      "outputs": [
        {
          "output_type": "stream",
          "name": "stdout",
          "text": [
            "002\n"
          ]
        }
      ]
    },
    {
      "cell_type": "code",
      "source": [
        "# slicing\n",
        "\n",
        "string_ = \"Hello, I am Jack and I am a data scientist\"\n",
        "print(string_)\n",
        "print(string_[1])"
      ],
      "metadata": {
        "colab": {
          "base_uri": "https://localhost:8080/"
        },
        "id": "tcAxgc-T5GHV",
        "outputId": "5fb1d25a-103d-433b-c858-ac98cc899bb2"
      },
      "execution_count": 31,
      "outputs": [
        {
          "output_type": "stream",
          "name": "stdout",
          "text": [
            "Hello, I am Jack and I am a data scientist\n",
            "e\n"
          ]
        }
      ]
    },
    {
      "cell_type": "code",
      "source": [
        "#화이트스페이스 단위로 문자열을 split함\n",
        "\n",
        "string_list = string_.split(\" \")\n",
        "string_list"
      ],
      "metadata": {
        "colab": {
          "base_uri": "https://localhost:8080/"
        },
        "id": "aBqbdW_J5OcS",
        "outputId": "67df1367-4d16-4a12-8bca-bb752081962e"
      },
      "execution_count": 33,
      "outputs": [
        {
          "output_type": "execute_result",
          "data": {
            "text/plain": [
              "['Hello,', 'I', 'am', 'Jack', 'and', 'I', 'am', 'a', 'data', 'scientist']"
            ]
          },
          "metadata": {},
          "execution_count": 33
        }
      ]
    },
    {
      "cell_type": "markdown",
      "source": [
        "### 정규표현식과 사용하기 좋은 메소드"
      ],
      "metadata": {
        "id": "mYF1UMdh58Ir"
      }
    },
    {
      "cell_type": "code",
      "source": [
        "#문자열이 'Hello'로 시작하면 True\n",
        "\n",
        "string_.startswith('Hello')"
      ],
      "metadata": {
        "colab": {
          "base_uri": "https://localhost:8080/"
        },
        "id": "V82DbcMT5TQQ",
        "outputId": "fe16293d-cce2-4e4f-baf9-77787ff8813e"
      },
      "execution_count": 35,
      "outputs": [
        {
          "output_type": "execute_result",
          "data": {
            "text/plain": [
              "True"
            ]
          },
          "metadata": {},
          "execution_count": 35
        }
      ]
    },
    {
      "cell_type": "code",
      "source": [
        "string_.endswith('scientist')"
      ],
      "metadata": {
        "colab": {
          "base_uri": "https://localhost:8080/"
        },
        "id": "MIE04DqV5jIT",
        "outputId": "115eeaa8-f2b0-4e0e-a4ca-5861f4aa413f"
      },
      "execution_count": 36,
      "outputs": [
        {
          "output_type": "execute_result",
          "data": {
            "text/plain": [
              "True"
            ]
          },
          "metadata": {},
          "execution_count": 36
        }
      ]
    },
    {
      "cell_type": "code",
      "source": [
        "string_.endswith('tist')"
      ],
      "metadata": {
        "colab": {
          "base_uri": "https://localhost:8080/"
        },
        "id": "MeV6rpVJ5lYC",
        "outputId": "e7dc1db2-2116-45ac-f97c-30fc84d830f0"
      },
      "execution_count": 38,
      "outputs": [
        {
          "output_type": "execute_result",
          "data": {
            "text/plain": [
              "True"
            ]
          },
          "metadata": {},
          "execution_count": 38
        }
      ]
    },
    {
      "cell_type": "code",
      "source": [
        "# 첫번째 인자에 해당하는 str을 두번째 인자로 replace\n",
        "\n",
        "print(string_.replace(\"Jack\", \"John\"))\n",
        "print(string_)"
      ],
      "metadata": {
        "colab": {
          "base_uri": "https://localhost:8080/"
        },
        "id": "vBdhu2g35oKA",
        "outputId": "d207feff-f1d2-4d08-8e08-52b7894b97b3"
      },
      "execution_count": 39,
      "outputs": [
        {
          "output_type": "stream",
          "name": "stdout",
          "text": [
            "Hello, I am John and I am a data scientist\n",
            "Hello, I am Jack and I am a data scientist\n"
          ]
        }
      ]
    },
    {
      "cell_type": "code",
      "source": [
        "#얕은 복사\n",
        "\n",
        "fruits = {\"apple\", \"banana\", \"cherry\"}\n",
        "fruits_copy = fruits.copy()\n",
        "fruits_copy"
      ],
      "metadata": {
        "colab": {
          "base_uri": "https://localhost:8080/"
        },
        "id": "cdgQKaY_5y-8",
        "outputId": "a9bb0e67-7a4d-4cd8-e8b8-962e46cbf727"
      },
      "execution_count": 41,
      "outputs": [
        {
          "output_type": "execute_result",
          "data": {
            "text/plain": [
              "{'apple', 'banana', 'cherry'}"
            ]
          },
          "metadata": {},
          "execution_count": 41
        }
      ]
    },
    {
      "cell_type": "code",
      "source": [
        "a = {'a': 5, 'b': 4, 'c': 8}\n",
        "b = a\n",
        "del b['a']\n",
        "\n",
        "print(a)\n",
        "print(b)"
      ],
      "metadata": {
        "colab": {
          "base_uri": "https://localhost:8080/"
        },
        "id": "gLodNXOw6FOc",
        "outputId": "4f78e3cc-4ebd-49ad-9fd6-49ff40c14623"
      },
      "execution_count": 48,
      "outputs": [
        {
          "output_type": "stream",
          "name": "stdout",
          "text": [
            "{'b': 4, 'c': 8}\n",
            "{'b': 4, 'c': 8}\n"
          ]
        }
      ]
    },
    {
      "cell_type": "code",
      "source": [
        "#깊은 복사\n",
        "\n",
        "import copy\n",
        "\n",
        "a = {'a': 5, 'b': 4, 'c': 8}\n",
        "b = copy.copy(a)\n",
        "del b['a']\n",
        "print(b)\n",
        "print(a)"
      ],
      "metadata": {
        "colab": {
          "base_uri": "https://localhost:8080/"
        },
        "id": "ByNPwmvG6rAN",
        "outputId": "02c049e7-eacb-419f-dfb8-4ef325b85854"
      },
      "execution_count": 51,
      "outputs": [
        {
          "output_type": "stream",
          "name": "stdout",
          "text": [
            "{'b': 4, 'c': 8}\n",
            "{'a': 5, 'b': 4, 'c': 8}\n"
          ]
        }
      ]
    },
    {
      "cell_type": "code",
      "source": [
        "list_var = [[1,2],[3,4]]\n",
        "list_var_deepcopy = copy.deepcopy(list_var)\n",
        "list_var_copy = list_var.copy()"
      ],
      "metadata": {
        "id": "hRrVcVid8bLV"
      },
      "execution_count": 52,
      "outputs": []
    },
    {
      "cell_type": "code",
      "source": [
        "list_var[1].append(5)"
      ],
      "metadata": {
        "id": "MEBcOXJ18tvo"
      },
      "execution_count": 53,
      "outputs": []
    },
    {
      "cell_type": "code",
      "source": [
        "# 원래 변수\n",
        "\n",
        "print(list_var)"
      ],
      "metadata": {
        "colab": {
          "base_uri": "https://localhost:8080/"
        },
        "id": "9zMj2QZ_8wjn",
        "outputId": "e1dfab7a-d212-4055-c703-204f93949967"
      },
      "execution_count": 54,
      "outputs": [
        {
          "output_type": "stream",
          "name": "stdout",
          "text": [
            "[[1, 2], [3, 4, 5]]\n"
          ]
        }
      ]
    },
    {
      "cell_type": "code",
      "source": [
        "# deepcopy : 원래 변수의 변화에 영향받지 않음\n",
        "\n",
        "print(list_var_deepcopy)"
      ],
      "metadata": {
        "colab": {
          "base_uri": "https://localhost:8080/"
        },
        "id": "zb-Ecfac8xtG",
        "outputId": "20027b3d-0206-4d10-c1d1-fd0c14f001fa"
      },
      "execution_count": 55,
      "outputs": [
        {
          "output_type": "stream",
          "name": "stdout",
          "text": [
            "[[1, 2], [3, 4]]\n"
          ]
        }
      ]
    },
    {
      "cell_type": "code",
      "source": [
        "# copy : 원래 변수의 변화에 영향을 받음\n",
        "\n",
        "print(list_var_copy)"
      ],
      "metadata": {
        "colab": {
          "base_uri": "https://localhost:8080/"
        },
        "id": "0uV83SlC8886",
        "outputId": "1b1d819a-9a24-4bfb-df3c-15fbd6812ea8"
      },
      "execution_count": 56,
      "outputs": [
        {
          "output_type": "stream",
          "name": "stdout",
          "text": [
            "[[1, 2], [3, 4, 5]]\n"
          ]
        }
      ]
    },
    {
      "cell_type": "markdown",
      "source": [
        "## 반복문과 조건문"
      ],
      "metadata": {
        "id": "gh4HHp4_9FJn"
      }
    },
    {
      "cell_type": "code",
      "source": [
        "#index를 활용한 list 호출\n",
        "\n",
        "data = [90, 45, 32, 44]\n",
        "for i in range(len(data)):\n",
        "    print(data[i])"
      ],
      "metadata": {
        "colab": {
          "base_uri": "https://localhost:8080/"
        },
        "id": "ryTaKvh-89HV",
        "outputId": "9d47e1cd-e74b-466c-ec5f-575b71fefbe5"
      },
      "execution_count": 57,
      "outputs": [
        {
          "output_type": "stream",
          "name": "stdout",
          "text": [
            "90\n",
            "45\n",
            "32\n",
            "44\n"
          ]
        }
      ]
    },
    {
      "cell_type": "code",
      "source": [
        "# dictionary key를 반환\n",
        "\n",
        "mock_data = {\n",
        "  \"id\": 1,\n",
        "  \"first_name\": \"states\",\n",
        "  \"last_name\": \"code\",\n",
        "  \"email\": \"code@states.com\",\n",
        "  \"gender\": \"Female\",\n",
        "  \"ip_address\": \"123.123.123.23\"\n",
        "}\n",
        "\n",
        "for x in mock_data:\n",
        "    print(x)"
      ],
      "metadata": {
        "colab": {
          "base_uri": "https://localhost:8080/"
        },
        "id": "Mnw-Q_4X9PK6",
        "outputId": "49a55e9b-bdce-4567-bed8-54d86def91ce"
      },
      "execution_count": 58,
      "outputs": [
        {
          "output_type": "stream",
          "name": "stdout",
          "text": [
            "id\n",
            "first_name\n",
            "last_name\n",
            "email\n",
            "gender\n",
            "ip_address\n"
          ]
        }
      ]
    },
    {
      "cell_type": "code",
      "source": [
        "# dictionary key를 반환\n",
        "\n",
        "mock_data = {\n",
        "  \"id\": 1,\n",
        "  \"first_name\": \"states\",\n",
        "  \"last_name\": \"code\",\n",
        "  \"email\": \"code@states.com\",\n",
        "  \"gender\": \"Female\",\n",
        "  \"ip_address\": \"123.123.123.23\"\n",
        "}\n",
        "\n",
        "for x in mock_data.keys():\n",
        "    print(x)"
      ],
      "metadata": {
        "colab": {
          "base_uri": "https://localhost:8080/"
        },
        "id": "zsA9Coad9cUj",
        "outputId": "8ee01711-15de-465d-9e62-7865029d34b0"
      },
      "execution_count": 59,
      "outputs": [
        {
          "output_type": "stream",
          "name": "stdout",
          "text": [
            "id\n",
            "first_name\n",
            "last_name\n",
            "email\n",
            "gender\n",
            "ip_address\n"
          ]
        }
      ]
    },
    {
      "cell_type": "code",
      "source": [
        "# dictionary value를 반환\n",
        "\n",
        "mock_data = {\n",
        "  \"id\": 1,\n",
        "  \"first_name\": \"states\",\n",
        "  \"last_name\": \"code\",\n",
        "  \"email\": \"code@states.com\",\n",
        "  \"gender\": \"Female\",\n",
        "  \"ip_address\": \"123.123.123.23\"\n",
        "}\n",
        "\n",
        "for x in mock_data.values():\n",
        "    print(x)"
      ],
      "metadata": {
        "colab": {
          "base_uri": "https://localhost:8080/"
        },
        "id": "Pp4zCjg79rCy",
        "outputId": "d86a020b-a45b-4ca2-ed85-53900d0cf8b9"
      },
      "execution_count": 60,
      "outputs": [
        {
          "output_type": "stream",
          "name": "stdout",
          "text": [
            "1\n",
            "states\n",
            "code\n",
            "code@states.com\n",
            "Female\n",
            "123.123.123.23\n"
          ]
        }
      ]
    },
    {
      "cell_type": "code",
      "source": [
        "# dictionary의 item을 튜플형태로 반환\n",
        "\n",
        "mock_data = {\n",
        "  \"id\": 1,\n",
        "  \"first_name\": \"states\",\n",
        "  \"last_name\": \"code\",\n",
        "  \"email\": \"code@states.com\",\n",
        "  \"gender\": \"Female\",\n",
        "  \"ip_address\": \"123.123.123.23\"\n",
        "}\n",
        "\n",
        "for x in mock_data.items():\n",
        "    print(x)"
      ],
      "metadata": {
        "colab": {
          "base_uri": "https://localhost:8080/"
        },
        "id": "_btWEQNX9tRR",
        "outputId": "ce54469f-42ed-4f13-9154-2c0e0d584338"
      },
      "execution_count": 61,
      "outputs": [
        {
          "output_type": "stream",
          "name": "stdout",
          "text": [
            "('id', 1)\n",
            "('first_name', 'states')\n",
            "('last_name', 'code')\n",
            "('email', 'code@states.com')\n",
            "('gender', 'Female')\n",
            "('ip_address', '123.123.123.23')\n"
          ]
        }
      ]
    },
    {
      "cell_type": "code",
      "source": [
        "# tuple unpacking\n",
        "\n",
        "for k,v in mock_data.items():\n",
        "    print(k, v)"
      ],
      "metadata": {
        "colab": {
          "base_uri": "https://localhost:8080/"
        },
        "id": "xX_NdNdp91Xv",
        "outputId": "cc7043c6-38b3-40f9-e689-d19d31d440d0"
      },
      "execution_count": 65,
      "outputs": [
        {
          "output_type": "stream",
          "name": "stdout",
          "text": [
            "id 1\n",
            "first_name states\n",
            "last_name code\n",
            "email code@states.com\n",
            "gender Female\n",
            "ip_address 123.123.123.23\n"
          ]
        }
      ]
    },
    {
      "cell_type": "code",
      "source": [
        "# range를 활용한 반복문 활용\n",
        "\n",
        "a = [1,2,3,4,5]\n",
        "b = [10,20,30,40,50]\n",
        "\n",
        "for i in range(len(a)):\n",
        "    print(a[i], b[i])"
      ],
      "metadata": {
        "colab": {
          "base_uri": "https://localhost:8080/"
        },
        "id": "2iE1r-oV-GT_",
        "outputId": "a7682c3c-3e40-49ae-f8ee-4461d66c0d60"
      },
      "execution_count": 66,
      "outputs": [
        {
          "output_type": "stream",
          "name": "stdout",
          "text": [
            "1 10\n",
            "2 20\n",
            "3 30\n",
            "4 40\n",
            "5 50\n"
          ]
        }
      ]
    },
    {
      "cell_type": "code",
      "source": [
        "# zip 함수 활용\n",
        "# 두 list 내의 객체를 같은 인덱스끼리 묶어줌\n",
        "\n",
        "a = [1,2,3,4,5]\n",
        "b = [10,20,30,40,50]\n",
        "c = zip(a,b) #class 메소드로 저장\n",
        "print(list(c))"
      ],
      "metadata": {
        "colab": {
          "base_uri": "https://localhost:8080/"
        },
        "id": "ICwIXGdl_IYq",
        "outputId": "4603a019-e585-48cc-8689-8df6b593ecb7"
      },
      "execution_count": 68,
      "outputs": [
        {
          "output_type": "stream",
          "name": "stdout",
          "text": [
            "[(1, 10), (2, 20), (3, 30), (4, 40), (5, 50)]\n"
          ]
        }
      ]
    },
    {
      "cell_type": "code",
      "source": [
        "# 반복문과 zip 활용\n",
        "\n",
        "a = [1,2,3,4,5]\n",
        "b = [10,20,30,40,50]\n",
        "c = [100,200,300,400,500]\n",
        "\n",
        "for x,y,z in zip(a,b,c): #튜플로 저장하기를 원하면 변수 하나에 저장\n",
        "    print(x,y,z)"
      ],
      "metadata": {
        "colab": {
          "base_uri": "https://localhost:8080/"
        },
        "id": "DyffShxH_QaT",
        "outputId": "67e00d7a-5605-4ace-9b27-ab11b33c448e"
      },
      "execution_count": 71,
      "outputs": [
        {
          "output_type": "stream",
          "name": "stdout",
          "text": [
            "1 10 100\n",
            "2 20 200\n",
            "3 30 300\n",
            "4 40 400\n",
            "5 50 500\n"
          ]
        }
      ]
    },
    {
      "cell_type": "code",
      "source": [
        "# break : 조건이 충족되면 if문을 break\n",
        "\n",
        "IntCollection=[0,1,2,3,4,5,6,7]\n",
        "for x in IntCollection:\n",
        "    if(x==3):\n",
        "        break\n",
        "    else:\n",
        "        print(x)"
      ],
      "metadata": {
        "colab": {
          "base_uri": "https://localhost:8080/"
        },
        "id": "uUFRUoZ-_5tz",
        "outputId": "5dc0321c-1deb-41cd-d526-ef9d6f07a0b3"
      },
      "execution_count": 72,
      "outputs": [
        {
          "output_type": "stream",
          "name": "stdout",
          "text": [
            "0\n",
            "1\n",
            "2\n"
          ]
        }
      ]
    },
    {
      "cell_type": "code",
      "source": [
        "# continue : 조건이 충족되는 변수를 연산하지 않고 해당 부분만 건너뜀\n",
        "\n",
        "for x in IntCollection:\n",
        "    if(x==3):\n",
        "        continue\n",
        "    else:\n",
        "        print(x)"
      ],
      "metadata": {
        "colab": {
          "base_uri": "https://localhost:8080/"
        },
        "id": "OK2_GbzXAryu",
        "outputId": "283d652e-61af-4eb7-bbc6-9fb33f17adfa"
      },
      "execution_count": 73,
      "outputs": [
        {
          "output_type": "stream",
          "name": "stdout",
          "text": [
            "0\n",
            "1\n",
            "2\n",
            "4\n",
            "5\n",
            "6\n",
            "7\n"
          ]
        }
      ]
    },
    {
      "cell_type": "code",
      "source": [
        "# index로 element에 접근하여 함수를 적용\n",
        "\n",
        "list_ = [1,2,3,4,5]\n",
        "\n",
        "def foo(list_):\n",
        "    print(list_)\n",
        "\n",
        "print('foo(list_[i])')\n",
        "\n",
        "for i in range(len(list_)):\n",
        "    foo(list_[i])"
      ],
      "metadata": {
        "colab": {
          "base_uri": "https://localhost:8080/"
        },
        "id": "AEx5Eik8BFbg",
        "outputId": "234c2bcc-a3ed-42c7-828b-26478da6ca22"
      },
      "execution_count": 77,
      "outputs": [
        {
          "output_type": "stream",
          "name": "stdout",
          "text": [
            "foo(list_[i])\n",
            "1\n",
            "2\n",
            "3\n",
            "4\n",
            "5\n"
          ]
        }
      ]
    },
    {
      "cell_type": "code",
      "source": [
        "# element에 직접 접근하여 함수를 적용\n",
        "\n",
        "print('foo(element)')\n",
        "for element in list_:\n",
        "    foo(element)"
      ],
      "metadata": {
        "colab": {
          "base_uri": "https://localhost:8080/"
        },
        "id": "ui8JKYQ0BNVu",
        "outputId": "86ce70a1-832c-46be-82da-3e3faec1ffc7"
      },
      "execution_count": 78,
      "outputs": [
        {
          "output_type": "stream",
          "name": "stdout",
          "text": [
            "foo(element)\n",
            "1\n",
            "2\n",
            "3\n",
            "4\n",
            "5\n"
          ]
        }
      ]
    }
  ]
}